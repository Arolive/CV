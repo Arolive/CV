{
  "nbformat": 4,
  "nbformat_minor": 0,
  "metadata": {
    "kernelspec": {
      "display_name": "Python 3",
      "language": "python",
      "name": "python3"
    },
    "language_info": {
      "codemirror_mode": {
        "name": "ipython",
        "version": 3
      },
      "file_extension": ".py",
      "mimetype": "text/x-python",
      "name": "python",
      "nbconvert_exporter": "python",
      "pygments_lexer": "ipython3",
      "version": "3.6.8"
    },
    "colab": {
      "name": "project_2_TransferLearning.ipynb",
      "provenance": [],
      "collapsed_sections": [
        "BBYadi65H3B6"
      ]
    },
    "accelerator": "GPU"
  },
  "cells": [
    {
      "cell_type": "markdown",
      "metadata": {
        "id": "FUoDWb4nH3BO",
        "colab_type": "text"
      },
      "source": [
        "# Importing packages"
      ]
    },
    {
      "cell_type": "code",
      "metadata": {
        "id": "nUuXEKnAH3BR",
        "colab_type": "code",
        "colab": {}
      },
      "source": [
        "from tensorflow.keras.applications.resnet import ResNet101, preprocess_input\n",
        "from tensorflow.keras.applications.resnet_v2 import ResNet101V2\n",
        "import IPython.display as display\n",
        "import matplotlib.pyplot as plt\n",
        "from google.colab import drive\n",
        "from tensorflow import keras\n",
        "# import tensorflow as tf\n",
        "from PIL import Image\n",
        "import numpy as np\n",
        "# import keras\n",
        "import PIL\n",
        "import os"
      ],
      "execution_count": 0,
      "outputs": []
    },
    {
      "cell_type": "markdown",
      "metadata": {
        "id": "BBYadi65H3B6",
        "colab_type": "text"
      },
      "source": [
        "# Importing images"
      ]
    },
    {
      "cell_type": "markdown",
      "metadata": {
        "id": "TN8vjW7mKrZU",
        "colab_type": "text"
      },
      "source": [
        "Mount Google Drive"
      ]
    },
    {
      "cell_type": "code",
      "metadata": {
        "id": "UZDYSQJGKp9u",
        "colab_type": "code",
        "outputId": "8cf4c94c-792d-41ef-a6ee-e42619edd7a0",
        "colab": {
          "base_uri": "https://localhost:8080/",
          "height": 36
        }
      },
      "source": [
        "## Mount Google Drive\n",
        "drive.mount('/content/drive')"
      ],
      "execution_count": 3,
      "outputs": [
        {
          "output_type": "stream",
          "text": [
            "Drive already mounted at /content/drive; to attempt to forcibly remount, call drive.mount(\"/content/drive\", force_remount=True).\n"
          ],
          "name": "stdout"
        }
      ]
    },
    {
      "cell_type": "markdown",
      "metadata": {
        "id": "EvkFPQseH3CB",
        "colab_type": "text"
      },
      "source": [
        "Defining functions"
      ]
    },
    {
      "cell_type": "code",
      "metadata": {
        "id": "XumJyP-3H3CD",
        "colab_type": "code",
        "colab": {}
      },
      "source": [
        "BATCH_SIZE = 32\n",
        "IMG_HEIGHT = 224\n",
        "IMG_WIDTH = 224\n",
        "SPLIT = 0.2\n",
        "trainPath = \"/content/drive/My Drive/CMI/ImageData/Data/train/\" \n",
        "testPath = \"/content/drive/My Drive/CMI/ImageData/Data/test/\""
      ],
      "execution_count": 0,
      "outputs": []
    },
    {
      "cell_type": "code",
      "metadata": {
        "id": "8tfM7EPTH3CS",
        "colab_type": "code",
        "colab": {}
      },
      "source": [
        "def loadData(path, split = False):\n",
        "    data_dir = path\n",
        "    image_generator = keras.preprocessing.image.ImageDataGenerator(rescale = 1.0/255, horizontal_flip = True, validation_split = SPLIT, \n",
        "                                                                   preprocessing_function = preprocess_input)\n",
        "    if split:\n",
        "\n",
        "        first_data_gen = image_generator.flow_from_directory(directory = data_dir,\n",
        "                                                             batch_size = BATCH_SIZE,\n",
        "                                                             shuffle = True,\n",
        "                                                             target_size = (IMG_HEIGHT, IMG_WIDTH),\n",
        "                                                             subset='training')\n",
        "        second_data_gen = image_generator.flow_from_directory(directory = data_dir,\n",
        "                                                             batch_size = BATCH_SIZE,\n",
        "                                                             shuffle = True,\n",
        "                                                             target_size = (IMG_HEIGHT, IMG_WIDTH),\n",
        "                                                             subset='validation')\n",
        "        return first_data_gen, second_data_gen\n",
        "    data_gen = image_generator.flow_from_directory(directory = data_dir,\n",
        "                                                   batch_size = BATCH_SIZE,\n",
        "                                                   shuffle = True,\n",
        "                                                   target_size = (IMG_HEIGHT, IMG_WIDTH))\n",
        "    return data_gen"
      ],
      "execution_count": 0,
      "outputs": []
    },
    {
      "cell_type": "markdown",
      "metadata": {
        "id": "zsBhfkvPH3Cc",
        "colab_type": "text"
      },
      "source": [
        "Loading data"
      ]
    },
    {
      "cell_type": "code",
      "metadata": {
        "id": "oTbsJuoRH3Cg",
        "colab_type": "code",
        "outputId": "9533fc49-c967-4910-ebb3-a6797fe6eb5d",
        "colab": {
          "base_uri": "https://localhost:8080/",
          "height": 73
        }
      },
      "source": [
        "trainData, valData = loadData(trainPath, split = True)\n",
        "testData  = loadData(testPath)"
      ],
      "execution_count": 6,
      "outputs": [
        {
          "output_type": "stream",
          "text": [
            "Found 4320 images belonging to 15 classes.\n",
            "Found 1080 images belonging to 15 classes.\n",
            "Found 1800 images belonging to 15 classes.\n"
          ],
          "name": "stdout"
        }
      ]
    },
    {
      "cell_type": "markdown",
      "metadata": {
        "id": "7nE_Z1L1H3Cm",
        "colab_type": "text"
      },
      "source": [
        "Defining classes list"
      ]
    },
    {
      "cell_type": "code",
      "metadata": {
        "id": "ZUjDwotNH3Co",
        "colab_type": "code",
        "colab": {}
      },
      "source": [
        "labels = list(trainData.class_indices.keys())\n",
        "trainSteps = 4320/BATCH_SIZE\n",
        "valSteps = 1020/BATCH_SIZE\n",
        "testSteps = 1800/BATCH_SIZE"
      ],
      "execution_count": 0,
      "outputs": []
    },
    {
      "cell_type": "markdown",
      "metadata": {
        "id": "VG6X76FIH3C0",
        "colab_type": "text"
      },
      "source": [
        "# Model ResNet 101"
      ]
    },
    {
      "cell_type": "markdown",
      "metadata": {
        "id": "yGaI0HI2H3C1",
        "colab_type": "text"
      },
      "source": [
        "### Building the model"
      ]
    },
    {
      "cell_type": "markdown",
      "metadata": {
        "id": "g1QaMlFvi7UD",
        "colab_type": "text"
      },
      "source": [
        "Function to build the model"
      ]
    },
    {
      "cell_type": "code",
      "metadata": {
        "id": "BQkm-h13i6Dx",
        "colab_type": "code",
        "colab": {}
      },
      "source": [
        "def getModel(freeze = True):\n",
        "  # Basic structure for feature extraction\n",
        "  base_model = ResNet101(input_shape = (IMG_HEIGHT, IMG_WIDTH, 3),\n",
        "                       include_top = False,\n",
        "                       weights = 'imagenet')\n",
        "  \n",
        "  # Freezeing/Unfreezing base model\n",
        "  base_model.trainable = False\n",
        "  if not freeze:\n",
        "    base_model.trainable = True\n",
        "    # fine_tune_at = 20\n",
        "    # for layer in base_model.layers[:fine_tune_at]:\n",
        "    #   layer.trainable =  False\n",
        "\n",
        "  # Building classification layer\n",
        "  poolingLayer = keras.layers.GlobalAveragePooling2D()\n",
        "  # hiddenLayer1 = keras.layers.Dense(512, activation = \"tanh\")\n",
        "  # hiddenLayer2 = keras.layers.Dense(128, activation = \"relu\")\n",
        "  predictionLayer = keras.layers.Dense(15, activation = \"softmax\")\n",
        "\n",
        "  # Adding classification layer to the base model\n",
        "  model = keras.Sequential([base_model,\n",
        "                            poolingLayer,\n",
        "                            # hiddenLayer1,\n",
        "                            # hiddenLayer2,\n",
        "                            predictionLayer])\n",
        "  \n",
        "  return model"
      ],
      "execution_count": 0,
      "outputs": []
    },
    {
      "cell_type": "markdown",
      "metadata": {
        "id": "AJfFEoBfjHQj",
        "colab_type": "text"
      },
      "source": [
        "#### Frozen convolution base"
      ]
    },
    {
      "cell_type": "markdown",
      "metadata": {
        "id": "DmHF-hZjH3DU",
        "colab_type": "text"
      },
      "source": [
        "Compiling model"
      ]
    },
    {
      "cell_type": "code",
      "metadata": {
        "id": "0h7C8nAqH3DW",
        "colab_type": "code",
        "colab": {}
      },
      "source": [
        "# Defining number of epochs, learning rate\n",
        "NUM_EPOCHS = 50\n",
        "INIT_LR = 1e-2"
      ],
      "execution_count": 0,
      "outputs": []
    },
    {
      "cell_type": "code",
      "metadata": {
        "id": "bTXgzE-NH3Df",
        "colab_type": "code",
        "colab": {}
      },
      "source": [
        "modelFrozen = getModel()\n",
        "opt = keras.optimizers.Adam(learning_rate = INIT_LR)\n",
        "modelFrozen.compile(optimizer = opt,\n",
        "                    loss = keras.losses.categorical_crossentropy,\n",
        "                    metrics = ['accuracy'])"
      ],
      "execution_count": 0,
      "outputs": []
    },
    {
      "cell_type": "markdown",
      "metadata": {
        "id": "pgfEOQaBH3Dm",
        "colab_type": "text"
      },
      "source": [
        "Training model"
      ]
    },
    {
      "cell_type": "code",
      "metadata": {
        "id": "ToHkJNxoH3Dn",
        "colab_type": "code",
        "outputId": "b8ea5fe5-fea7-4a32-fdc0-293c482a1456",
        "colab": {
          "base_uri": "https://localhost:8080/",
          "height": 1000
        }
      },
      "source": [
        "historyFrozen = modelFrozen.fit(trainData, validation_data = (valData), steps_per_epoch = trainSteps, validation_steps = valSteps, epochs = NUM_EPOCHS, verbose = 1)"
      ],
      "execution_count": 60,
      "outputs": [
        {
          "output_type": "stream",
          "text": [
            "Epoch 1/50\n",
            "135/135 [==============================] - 118s 874ms/step - loss: 2.4968 - accuracy: 0.1903 - val_loss: 2.2440 - val_accuracy: 0.2274\n",
            "Epoch 2/50\n",
            "135/135 [==============================] - 115s 855ms/step - loss: 2.1860 - accuracy: 0.2694 - val_loss: 2.1480 - val_accuracy: 0.3135\n",
            "Epoch 3/50\n",
            "135/135 [==============================] - 118s 871ms/step - loss: 2.0959 - accuracy: 0.3109 - val_loss: 2.0479 - val_accuracy: 0.3447\n",
            "Epoch 4/50\n",
            "135/135 [==============================] - 115s 852ms/step - loss: 2.0849 - accuracy: 0.3231 - val_loss: 2.0092 - val_accuracy: 0.3169\n",
            "Epoch 5/50\n",
            "135/135 [==============================] - 119s 883ms/step - loss: 1.9435 - accuracy: 0.3648 - val_loss: 1.8268 - val_accuracy: 0.3848\n",
            "Epoch 6/50\n",
            "135/135 [==============================] - 113s 834ms/step - loss: 1.9425 - accuracy: 0.3574 - val_loss: 1.8389 - val_accuracy: 0.3740\n",
            "Epoch 7/50\n",
            "135/135 [==============================] - 115s 852ms/step - loss: 1.8856 - accuracy: 0.3873 - val_loss: 2.0093 - val_accuracy: 0.3455\n",
            "Epoch 8/50\n",
            "135/135 [==============================] - 121s 896ms/step - loss: 1.8156 - accuracy: 0.4051 - val_loss: 1.8037 - val_accuracy: 0.4035\n",
            "Epoch 9/50\n",
            "135/135 [==============================] - 116s 859ms/step - loss: 1.8205 - accuracy: 0.3931 - val_loss: 1.8273 - val_accuracy: 0.4281\n",
            "Epoch 10/50\n",
            "135/135 [==============================] - 116s 858ms/step - loss: 1.8165 - accuracy: 0.3975 - val_loss: 1.8364 - val_accuracy: 0.3789\n",
            "Epoch 11/50\n",
            "135/135 [==============================] - 120s 886ms/step - loss: 1.7538 - accuracy: 0.4185 - val_loss: 1.9152 - val_accuracy: 0.3425\n",
            "Epoch 12/50\n",
            "135/135 [==============================] - 117s 865ms/step - loss: 1.6996 - accuracy: 0.4421 - val_loss: 1.8393 - val_accuracy: 0.3927\n",
            "Epoch 13/50\n",
            "135/135 [==============================] - 118s 877ms/step - loss: 1.7311 - accuracy: 0.4194 - val_loss: 1.7890 - val_accuracy: 0.4124\n",
            "Epoch 14/50\n",
            "135/135 [==============================] - 118s 874ms/step - loss: 1.6924 - accuracy: 0.4407 - val_loss: 1.7515 - val_accuracy: 0.4124\n",
            "Epoch 15/50\n",
            "135/135 [==============================] - 113s 834ms/step - loss: 1.6977 - accuracy: 0.4259 - val_loss: 1.7927 - val_accuracy: 0.3780\n",
            "Epoch 16/50\n",
            "135/135 [==============================] - 116s 858ms/step - loss: 1.6660 - accuracy: 0.4542 - val_loss: 1.8950 - val_accuracy: 0.3868\n",
            "Epoch 17/50\n",
            "135/135 [==============================] - 111s 825ms/step - loss: 1.6615 - accuracy: 0.4581 - val_loss: 1.7008 - val_accuracy: 0.4163\n",
            "Epoch 18/50\n",
            "135/135 [==============================] - 116s 860ms/step - loss: 1.6309 - accuracy: 0.4688 - val_loss: 1.7053 - val_accuracy: 0.4656\n",
            "Epoch 19/50\n",
            "135/135 [==============================] - 110s 817ms/step - loss: 1.6376 - accuracy: 0.4525 - val_loss: 1.7477 - val_accuracy: 0.3967\n",
            "Epoch 20/50\n",
            "135/135 [==============================] - 114s 841ms/step - loss: 1.6146 - accuracy: 0.4567 - val_loss: 1.7102 - val_accuracy: 0.4508\n",
            "Epoch 21/50\n",
            "135/135 [==============================] - 115s 853ms/step - loss: 1.6294 - accuracy: 0.4711 - val_loss: 1.6421 - val_accuracy: 0.4636\n",
            "Epoch 22/50\n",
            "135/135 [==============================] - 112s 828ms/step - loss: 1.5570 - accuracy: 0.4845 - val_loss: 1.7575 - val_accuracy: 0.4242\n",
            "Epoch 23/50\n",
            "135/135 [==============================] - 110s 813ms/step - loss: 1.6046 - accuracy: 0.4583 - val_loss: 1.6467 - val_accuracy: 0.4232\n",
            "Epoch 24/50\n",
            "135/135 [==============================] - 111s 822ms/step - loss: 1.5484 - accuracy: 0.4854 - val_loss: 1.8521 - val_accuracy: 0.3957\n",
            "Epoch 25/50\n",
            "135/135 [==============================] - 110s 817ms/step - loss: 1.5880 - accuracy: 0.4708 - val_loss: 1.7152 - val_accuracy: 0.4518\n",
            "Epoch 26/50\n",
            "135/135 [==============================] - 113s 835ms/step - loss: 1.5184 - accuracy: 0.4928 - val_loss: 1.6579 - val_accuracy: 0.4449\n",
            "Epoch 27/50\n",
            "135/135 [==============================] - 112s 827ms/step - loss: 1.5685 - accuracy: 0.4762 - val_loss: 1.5667 - val_accuracy: 0.4793\n",
            "Epoch 28/50\n",
            "135/135 [==============================] - 113s 840ms/step - loss: 1.5499 - accuracy: 0.4838 - val_loss: 1.7256 - val_accuracy: 0.4400\n",
            "Epoch 29/50\n",
            "135/135 [==============================] - 112s 827ms/step - loss: 1.5215 - accuracy: 0.4961 - val_loss: 1.6588 - val_accuracy: 0.4409\n",
            "Epoch 30/50\n",
            "135/135 [==============================] - 115s 854ms/step - loss: 1.5771 - accuracy: 0.4775 - val_loss: 1.7614 - val_accuracy: 0.4439\n",
            "Epoch 31/50\n",
            "135/135 [==============================] - 110s 811ms/step - loss: 1.5450 - accuracy: 0.4951 - val_loss: 1.7085 - val_accuracy: 0.4360\n",
            "Epoch 32/50\n",
            "135/135 [==============================] - 112s 831ms/step - loss: 1.4966 - accuracy: 0.4944 - val_loss: 1.5862 - val_accuracy: 0.4724\n",
            "Epoch 33/50\n",
            "135/135 [==============================] - 115s 854ms/step - loss: 1.4742 - accuracy: 0.5104 - val_loss: 1.6739 - val_accuracy: 0.4724\n",
            "Epoch 34/50\n",
            "135/135 [==============================] - 114s 844ms/step - loss: 1.5212 - accuracy: 0.4956 - val_loss: 1.6817 - val_accuracy: 0.4508\n",
            "Epoch 35/50\n",
            "135/135 [==============================] - 112s 833ms/step - loss: 1.4456 - accuracy: 0.5086 - val_loss: 1.6908 - val_accuracy: 0.4636\n",
            "Epoch 36/50\n",
            "135/135 [==============================] - 114s 843ms/step - loss: 1.5189 - accuracy: 0.4912 - val_loss: 1.6933 - val_accuracy: 0.4639\n",
            "Epoch 37/50\n",
            "135/135 [==============================] - 113s 834ms/step - loss: 1.4792 - accuracy: 0.5086 - val_loss: 1.6363 - val_accuracy: 0.4521\n",
            "Epoch 38/50\n",
            "135/135 [==============================] - 114s 841ms/step - loss: 1.4015 - accuracy: 0.5350 - val_loss: 1.6346 - val_accuracy: 0.4488\n",
            "Epoch 39/50\n",
            "135/135 [==============================] - 111s 824ms/step - loss: 1.4989 - accuracy: 0.5049 - val_loss: 1.7849 - val_accuracy: 0.4380\n",
            "Epoch 40/50\n",
            "135/135 [==============================] - 111s 821ms/step - loss: 1.4846 - accuracy: 0.5113 - val_loss: 1.9936 - val_accuracy: 0.4173\n",
            "Epoch 41/50\n",
            "135/135 [==============================] - 114s 847ms/step - loss: 1.4153 - accuracy: 0.5280 - val_loss: 1.5844 - val_accuracy: 0.5049\n",
            "Epoch 42/50\n",
            "135/135 [==============================] - 106s 788ms/step - loss: 1.4191 - accuracy: 0.5192 - val_loss: 1.6400 - val_accuracy: 0.4774\n",
            "Epoch 43/50\n",
            "135/135 [==============================] - 113s 835ms/step - loss: 1.4332 - accuracy: 0.5275 - val_loss: 1.5758 - val_accuracy: 0.4803\n",
            "Epoch 44/50\n",
            "135/135 [==============================] - 114s 848ms/step - loss: 1.4032 - accuracy: 0.5394 - val_loss: 1.6446 - val_accuracy: 0.4715\n",
            "Epoch 45/50\n",
            "135/135 [==============================] - 113s 834ms/step - loss: 1.4541 - accuracy: 0.5134 - val_loss: 1.6858 - val_accuracy: 0.4646\n",
            "Epoch 46/50\n",
            "135/135 [==============================] - 110s 813ms/step - loss: 1.3979 - accuracy: 0.5306 - val_loss: 1.6787 - val_accuracy: 0.5000\n",
            "Epoch 47/50\n",
            "135/135 [==============================] - 112s 832ms/step - loss: 1.4189 - accuracy: 0.5343 - val_loss: 1.5852 - val_accuracy: 0.4813\n",
            "Epoch 48/50\n",
            "135/135 [==============================] - 114s 844ms/step - loss: 1.4131 - accuracy: 0.5243 - val_loss: 1.6796 - val_accuracy: 0.4695\n",
            "Epoch 49/50\n",
            "135/135 [==============================] - 112s 826ms/step - loss: 1.4058 - accuracy: 0.5345 - val_loss: 1.7271 - val_accuracy: 0.4291\n",
            "Epoch 50/50\n",
            "135/135 [==============================] - 109s 809ms/step - loss: 1.4036 - accuracy: 0.5336 - val_loss: 1.6468 - val_accuracy: 0.4449\n"
          ],
          "name": "stdout"
        }
      ]
    },
    {
      "cell_type": "code",
      "metadata": {
        "id": "0VelGES8u2Y5",
        "colab_type": "code",
        "colab": {
          "base_uri": "https://localhost:8080/",
          "height": 36
        },
        "outputId": "d8bb90eb-a02b-478a-861b-7fc54a05cbd9"
      },
      "source": [
        "# Train accuracy and report\n",
        "print(\"Accuracy on train data::\", historyFrozen.history[\"accuracy\"][-1]*100)"
      ],
      "execution_count": 61,
      "outputs": [
        {
          "output_type": "stream",
          "text": [
            "Accuracy on train data:: 53.35648059844971\n"
          ],
          "name": "stdout"
        }
      ]
    },
    {
      "cell_type": "markdown",
      "metadata": {
        "id": "vQJDhOXUO-ae",
        "colab_type": "text"
      },
      "source": [
        "Testing"
      ]
    },
    {
      "cell_type": "code",
      "metadata": {
        "id": "ifizOlVkH3D1",
        "colab_type": "code",
        "colab": {
          "base_uri": "https://localhost:8080/",
          "height": 54
        },
        "outputId": "cdefbd1f-124b-4937-e1e0-f2e5a53b7b1a"
      },
      "source": [
        "testAcc = modelFrozen.evaluate(testData, steps = testSteps)\n",
        "print(\"Accuracy on test data::\", testAcc[1]*100)"
      ],
      "execution_count": 62,
      "outputs": [
        {
          "output_type": "stream",
          "text": [
            "57/56 [==============================] - 38s 661ms/step - loss: 1.5864 - accuracy: 0.4661\n",
            "Accuracy on test data:: 46.61111235618591\n"
          ],
          "name": "stdout"
        }
      ]
    },
    {
      "cell_type": "markdown",
      "metadata": {
        "id": "cYMtpmYWOxe7",
        "colab_type": "text"
      },
      "source": [
        "Plotting"
      ]
    },
    {
      "cell_type": "code",
      "metadata": {
        "colab_type": "code",
        "outputId": "f245013e-fa42-41a0-bdf1-18398dcd08b2",
        "id": "4JSBxMhseIEf",
        "colab": {
          "base_uri": "https://localhost:8080/",
          "height": 295
        }
      },
      "source": [
        "# Plot training & validation accuracy values\n",
        "plt.plot(historyFrozen.history['accuracy'])\n",
        "plt.plot(historyFrozen.history['val_accuracy'])\n",
        "plt.title('Model accuracy')\n",
        "plt.ylabel('Accuracy')\n",
        "plt.xlabel('Epoch')\n",
        "plt.legend(['Train', 'Test'], loc='upper left')\n",
        "plt.show()"
      ],
      "execution_count": 0,
      "outputs": [
        {
          "output_type": "display_data",
          "data": {
            "image/png": "[encoded data removed]",
            "text/plain": [
              "<Figure size 432x288 with 1 Axes>"
            ]
          },
          "metadata": {
            "tags": [],
            "needs_background": "light"
          }
        }
      ]
    },
    {
      "cell_type": "code",
      "metadata": {
        "id": "kQ6gqa9JvXDC",
        "colab_type": "code",
        "colab": {
          "base_uri": "https://localhost:8080/",
          "height": 295
        },
        "outputId": "5b00ceb0-782d-4e9a-df4c-50cad1a8e501"
      },
      "source": [
        "# Plot training & validation loss values\n",
        "plt.plot(historyFrozen.history['loss'])\n",
        "plt.plot(historyFrozen.history['val_loss'])\n",
        "plt.title('Model loss')\n",
        "plt.ylabel('Loss')\n",
        "plt.xlabel('Epoch')\n",
        "plt.legend(['Train', 'Test'], loc='upper left')\n",
        "plt.show()"
      ],
      "execution_count": 64,
      "outputs": [
        {
          "output_type": "display_data",
          "data": {
            "image/png": "[encoded data removed]",
            "text/plain": [
              "<Figure size 432x288 with 1 Axes>"
            ]
          },
          "metadata": {
            "tags": [],
            "needs_background": "light"
          }
        }
      ]
    },
    {
      "cell_type": "markdown",
      "metadata": {
        "id": "95p5KznYlQ-v",
        "colab_type": "text"
      },
      "source": [
        "#### Unfrozen convolution base"
      ]
    },
    {
      "cell_type": "code",
      "metadata": {
        "id": "HIzKiqHxlUl_",
        "colab_type": "code",
        "colab": {}
      },
      "source": [
        "# Defining number of epochs, learning rate\n",
        "NUM_EPOCHS = 50\n",
        "INIT_LR = 1e-2"
      ],
      "execution_count": 0,
      "outputs": []
    },
    {
      "cell_type": "code",
      "metadata": {
        "id": "CXaGfnKHlUiq",
        "colab_type": "code",
        "colab": {}
      },
      "source": [
        "modelUnFrozen = getModel(freeze = False)\n",
        "opt = keras.optimizers.Adam(lr = INIT_LR)\n",
        "modelUnFrozen.compile(optimizer = opt,\n",
        "                      loss = keras.losses.categorical_crossentropy,\n",
        "                      metrics = ['accuracy'])"
      ],
      "execution_count": 0,
      "outputs": []
    },
    {
      "cell_type": "markdown",
      "metadata": {
        "id": "pThkwObOmEVo",
        "colab_type": "text"
      },
      "source": [
        "Training model"
      ]
    },
    {
      "cell_type": "code",
      "metadata": {
        "id": "ZfvogafdlUaG",
        "colab_type": "code",
        "colab": {
          "base_uri": "https://localhost:8080/",
          "height": 1000
        },
        "outputId": "5c40303e-dc34-436f-fce6-b6357b2ec62c"
      },
      "source": [
        "historyUnFrozen = modelUnFrozen.fit(trainData, validation_data = (valData), steps_per_epoch = trainSteps, validation_steps = valSteps, epochs = NUM_EPOCHS, verbose = 1)"
      ],
      "execution_count": 16,
      "outputs": [
        {
          "output_type": "stream",
          "text": [
            "Epoch 1/50\n",
            "135/135 [==============================] - 129s 952ms/step - loss: 3.3099 - accuracy: 0.1222 - val_loss: 64.2917 - val_accuracy: 0.0659\n",
            "Epoch 2/50\n",
            "135/135 [==============================] - 132s 976ms/step - loss: 2.2741 - accuracy: 0.2243 - val_loss: 3.3303 - val_accuracy: 0.1014\n",
            "Epoch 3/50\n",
            "135/135 [==============================] - 128s 949ms/step - loss: 2.0414 - accuracy: 0.2900 - val_loss: 2.5227 - val_accuracy: 0.1654\n",
            "Epoch 4/50\n",
            "135/135 [==============================] - 130s 961ms/step - loss: 1.8780 - accuracy: 0.3472 - val_loss: 3.0443 - val_accuracy: 0.1024\n",
            "Epoch 5/50\n",
            "135/135 [==============================] - 130s 961ms/step - loss: 1.7723 - accuracy: 0.3866 - val_loss: 3.9107 - val_accuracy: 0.2264\n",
            "Epoch 6/50\n",
            "135/135 [==============================] - 128s 945ms/step - loss: 1.5682 - accuracy: 0.4475 - val_loss: 3.0919 - val_accuracy: 0.2057\n",
            "Epoch 7/50\n",
            "135/135 [==============================] - 126s 933ms/step - loss: 1.4675 - accuracy: 0.4843 - val_loss: 2.7062 - val_accuracy: 0.2904\n",
            "Epoch 8/50\n",
            "135/135 [==============================] - 128s 946ms/step - loss: 1.3920 - accuracy: 0.5069 - val_loss: 2.0186 - val_accuracy: 0.3593\n",
            "Epoch 9/50\n",
            "135/135 [==============================] - 127s 937ms/step - loss: 1.2918 - accuracy: 0.5433 - val_loss: 1.8594 - val_accuracy: 0.4272\n",
            "Epoch 10/50\n",
            "135/135 [==============================] - 124s 919ms/step - loss: 1.2438 - accuracy: 0.5625 - val_loss: 1.5694 - val_accuracy: 0.4882\n",
            "Epoch 11/50\n",
            "135/135 [==============================] - 125s 925ms/step - loss: 1.1753 - accuracy: 0.5933 - val_loss: 1.8468 - val_accuracy: 0.4823\n",
            "Epoch 12/50\n",
            "135/135 [==============================] - 125s 926ms/step - loss: 1.1636 - accuracy: 0.5949 - val_loss: 2.3778 - val_accuracy: 0.4154\n",
            "Epoch 13/50\n",
            "135/135 [==============================] - 126s 932ms/step - loss: 1.0327 - accuracy: 0.6380 - val_loss: 2.0667 - val_accuracy: 0.4528\n",
            "Epoch 14/50\n",
            "135/135 [==============================] - 124s 920ms/step - loss: 1.0014 - accuracy: 0.6477 - val_loss: 1.6974 - val_accuracy: 0.4754\n",
            "Epoch 15/50\n",
            "135/135 [==============================] - 124s 920ms/step - loss: 0.9447 - accuracy: 0.6655 - val_loss: 3.0732 - val_accuracy: 0.3691\n",
            "Epoch 16/50\n",
            "135/135 [==============================] - 125s 923ms/step - loss: 0.8596 - accuracy: 0.6921 - val_loss: 2.1054 - val_accuracy: 0.4882\n",
            "Epoch 17/50\n",
            "135/135 [==============================] - 124s 919ms/step - loss: 0.8581 - accuracy: 0.7042 - val_loss: 1.9224 - val_accuracy: 0.5128\n",
            "Epoch 18/50\n",
            "135/135 [==============================] - 120s 885ms/step - loss: 0.8068 - accuracy: 0.7093 - val_loss: 2.8011 - val_accuracy: 0.4055\n",
            "Epoch 19/50\n",
            "135/135 [==============================] - 123s 911ms/step - loss: 0.7510 - accuracy: 0.7338 - val_loss: 4.2733 - val_accuracy: 0.2854\n",
            "Epoch 20/50\n",
            "135/135 [==============================] - 120s 892ms/step - loss: 0.7033 - accuracy: 0.7449 - val_loss: 5.2136 - val_accuracy: 0.3130\n",
            "Epoch 21/50\n",
            "135/135 [==============================] - 121s 894ms/step - loss: 0.6877 - accuracy: 0.7572 - val_loss: 3.1490 - val_accuracy: 0.4252\n",
            "Epoch 22/50\n",
            "135/135 [==============================] - 122s 903ms/step - loss: 0.6433 - accuracy: 0.7692 - val_loss: 3.7166 - val_accuracy: 0.3100\n",
            "Epoch 23/50\n",
            "135/135 [==============================] - 122s 902ms/step - loss: 0.5959 - accuracy: 0.7900 - val_loss: 4.9107 - val_accuracy: 0.4035\n",
            "Epoch 24/50\n",
            "135/135 [==============================] - 124s 915ms/step - loss: 0.5760 - accuracy: 0.7935 - val_loss: 1.9911 - val_accuracy: 0.5394\n",
            "Epoch 25/50\n",
            "135/135 [==============================] - 124s 922ms/step - loss: 0.5219 - accuracy: 0.8183 - val_loss: 2.1470 - val_accuracy: 0.5167\n",
            "Epoch 26/50\n",
            "135/135 [==============================] - 123s 911ms/step - loss: 0.5151 - accuracy: 0.8199 - val_loss: 2.2979 - val_accuracy: 0.5098\n",
            "Epoch 27/50\n",
            "135/135 [==============================] - 124s 915ms/step - loss: 0.4671 - accuracy: 0.8303 - val_loss: 1.6956 - val_accuracy: 0.5778\n",
            "Epoch 28/50\n",
            "135/135 [==============================] - 125s 927ms/step - loss: 0.4424 - accuracy: 0.8440 - val_loss: 8.2898 - val_accuracy: 0.1959\n",
            "Epoch 29/50\n",
            "135/135 [==============================] - 128s 950ms/step - loss: 0.3836 - accuracy: 0.8639 - val_loss: 2.3109 - val_accuracy: 0.5394\n",
            "Epoch 30/50\n",
            "135/135 [==============================] - 129s 957ms/step - loss: 0.4142 - accuracy: 0.8537 - val_loss: 3.3211 - val_accuracy: 0.5177\n",
            "Epoch 31/50\n",
            "135/135 [==============================] - 129s 955ms/step - loss: 0.3645 - accuracy: 0.8701 - val_loss: 4.4021 - val_accuracy: 0.3857\n",
            "Epoch 32/50\n",
            "135/135 [==============================] - 131s 969ms/step - loss: 0.3145 - accuracy: 0.8942 - val_loss: 2.7938 - val_accuracy: 0.5234\n",
            "Epoch 33/50\n",
            "135/135 [==============================] - 129s 956ms/step - loss: 0.2863 - accuracy: 0.9037 - val_loss: 2.3194 - val_accuracy: 0.5236\n",
            "Epoch 34/50\n",
            "135/135 [==============================] - 130s 962ms/step - loss: 0.2703 - accuracy: 0.9065 - val_loss: 2.7086 - val_accuracy: 0.5187\n",
            "Epoch 35/50\n",
            "135/135 [==============================] - 129s 956ms/step - loss: 0.2726 - accuracy: 0.9009 - val_loss: 3.8041 - val_accuracy: 0.4222\n",
            "Epoch 36/50\n",
            "135/135 [==============================] - 129s 954ms/step - loss: 0.2435 - accuracy: 0.9090 - val_loss: 2.6997 - val_accuracy: 0.5118\n",
            "Epoch 37/50\n",
            "135/135 [==============================] - 129s 959ms/step - loss: 0.2418 - accuracy: 0.9215 - val_loss: 5.6178 - val_accuracy: 0.5138\n",
            "Epoch 38/50\n",
            "135/135 [==============================] - 129s 954ms/step - loss: 0.1546 - accuracy: 0.9491 - val_loss: 1.9056 - val_accuracy: 0.6191\n",
            "Epoch 39/50\n",
            "135/135 [==============================] - 128s 950ms/step - loss: 0.1778 - accuracy: 0.9377 - val_loss: 48.1155 - val_accuracy: 0.4656\n",
            "Epoch 40/50\n",
            "135/135 [==============================] - 129s 956ms/step - loss: 0.3037 - accuracy: 0.8968 - val_loss: 8.0243 - val_accuracy: 0.2963\n",
            "Epoch 41/50\n",
            "135/135 [==============================] - 130s 964ms/step - loss: 0.2225 - accuracy: 0.9289 - val_loss: 4.8145 - val_accuracy: 0.4764\n",
            "Epoch 42/50\n",
            "135/135 [==============================] - 130s 964ms/step - loss: 0.1702 - accuracy: 0.9380 - val_loss: 2.4873 - val_accuracy: 0.5955\n",
            "Epoch 43/50\n",
            "135/135 [==============================] - 127s 939ms/step - loss: 0.1516 - accuracy: 0.9498 - val_loss: 2.3896 - val_accuracy: 0.5965\n",
            "Epoch 44/50\n",
            "135/135 [==============================] - 130s 962ms/step - loss: 0.0897 - accuracy: 0.9685 - val_loss: 2.3292 - val_accuracy: 0.6024\n",
            "Epoch 45/50\n",
            "135/135 [==============================] - 129s 958ms/step - loss: 0.1200 - accuracy: 0.9595 - val_loss: 2.7572 - val_accuracy: 0.5659\n",
            "Epoch 46/50\n",
            "135/135 [==============================] - 125s 928ms/step - loss: 0.1944 - accuracy: 0.9329 - val_loss: 4.3044 - val_accuracy: 0.4892\n",
            "Epoch 47/50\n",
            "135/135 [==============================] - 125s 924ms/step - loss: 0.1763 - accuracy: 0.9407 - val_loss: 3.8489 - val_accuracy: 0.4390\n",
            "Epoch 48/50\n",
            "135/135 [==============================] - 127s 939ms/step - loss: 0.1624 - accuracy: 0.9419 - val_loss: 11.9780 - val_accuracy: 0.4321\n",
            "Epoch 49/50\n",
            "135/135 [==============================] - 129s 954ms/step - loss: 0.1705 - accuracy: 0.9403 - val_loss: 3.1752 - val_accuracy: 0.5728\n",
            "Epoch 50/50\n",
            "135/135 [==============================] - 127s 942ms/step - loss: 0.1364 - accuracy: 0.9537 - val_loss: 2.1035 - val_accuracy: 0.6152\n"
          ],
          "name": "stdout"
        }
      ]
    },
    {
      "cell_type": "code",
      "metadata": {
        "id": "lXccsfB_u6lW",
        "colab_type": "code",
        "colab": {
          "base_uri": "https://localhost:8080/",
          "height": 36
        },
        "outputId": "917b854c-f185-48f9-cbd0-ea3b9c7de942"
      },
      "source": [
        "# Train accuracy and report\n",
        "print(\"Accuracy on train data::\", historyUnFrozen.history[\"accuracy\"][-1]*100)"
      ],
      "execution_count": 18,
      "outputs": [
        {
          "output_type": "stream",
          "text": [
            "Accuracy on train data:: 95.37037014961243\n"
          ],
          "name": "stdout"
        }
      ]
    },
    {
      "cell_type": "markdown",
      "metadata": {
        "id": "F8JEAQZ8mYO2",
        "colab_type": "text"
      },
      "source": [
        "Testing"
      ]
    },
    {
      "cell_type": "code",
      "metadata": {
        "id": "svD0hIF-mXtt",
        "colab_type": "code",
        "colab": {
          "base_uri": "https://localhost:8080/",
          "height": 54
        },
        "outputId": "cc0a09f7-f818-4e35-b89e-339c638905ce"
      },
      "source": [
        "testAcc = modelUnFrozen.evaluate(testData, steps = testSteps)\n",
        "print(\"Accuracy on test data::\", testAcc[1]*100)"
      ],
      "execution_count": 21,
      "outputs": [
        {
          "output_type": "stream",
          "text": [
            "57/56 [==============================] - 442s 8s/step - loss: 1.9388 - accuracy: 0.6328\n",
            "Accuracy on test data:: 63.277775049209595\n"
          ],
          "name": "stdout"
        }
      ]
    },
    {
      "cell_type": "markdown",
      "metadata": {
        "id": "123egsvdmm6R",
        "colab_type": "text"
      },
      "source": [
        "Plotting"
      ]
    },
    {
      "cell_type": "code",
      "metadata": {
        "id": "EFhu668bmnmX",
        "colab_type": "code",
        "colab": {
          "base_uri": "https://localhost:8080/",
          "height": 295
        },
        "outputId": "ebbdf770-a802-487d-c1a5-9e18b64e4dfb"
      },
      "source": [
        "# Plot training & validation accuracy values\n",
        "plt.plot(historyUnFrozen.history['accuracy'])\n",
        "plt.plot(historyUnFrozen.history['val_accuracy'])\n",
        "plt.title('Model accuracy')\n",
        "plt.ylabel('Accuracy')\n",
        "plt.xlabel('Epoch')\n",
        "plt.legend(['Train', 'Test'], loc='upper left')\n",
        "plt.show()"
      ],
      "execution_count": 22,
      "outputs": [
        {
          "output_type": "display_data",
          "data": {
            "image/png": "[encoded data removed]",
            "text/plain": [
              "<Figure size 432x288 with 1 Axes>"
            ]
          },
          "metadata": {
            "tags": [],
            "needs_background": "light"
          }
        }
      ]
    },
    {
      "cell_type": "code",
      "metadata": {
        "id": "l03yP1WPmqYx",
        "colab_type": "code",
        "colab": {
          "base_uri": "https://localhost:8080/",
          "height": 295
        },
        "outputId": "172d53ca-b4ea-4f1c-d4fd-9db3a7ef4a41"
      },
      "source": [
        "# Plot training & validation loss values\n",
        "plt.plot(historyUnFrozen.history['loss'])\n",
        "plt.plot(historyUnFrozen.history['val_loss'])\n",
        "plt.title('Model loss')\n",
        "plt.ylabel('Loss')\n",
        "plt.xlabel('Epoch')\n",
        "plt.legend(['Train', 'Test'], loc='upper left')\n",
        "plt.show()"
      ],
      "execution_count": 23,
      "outputs": [
        {
          "output_type": "display_data",
          "data": {
            "image/png": "[encoded data removed]",
            "text/plain": [
              "<Figure size 432x288 with 1 Axes>"
            ]
          },
          "metadata": {
            "tags": [],
            "needs_background": "light"
          }
        }
      ]
    },
    {
      "cell_type": "code",
      "metadata": {
        "id": "yypkXXzwdy_r",
        "colab_type": "code",
        "colab": {}
      },
      "source": [
        ""
      ],
      "execution_count": 0,
      "outputs": []
    },
    {
      "cell_type": "markdown",
      "metadata": {
        "id": "xmwm1k54e3jd",
        "colab_type": "text"
      },
      "source": [
        "# Model ResNet V2"
      ]
    },
    {
      "cell_type": "markdown",
      "metadata": {
        "id": "OidFXsWEfHn2",
        "colab_type": "text"
      },
      "source": [
        "### Building the model"
      ]
    },
    {
      "cell_type": "markdown",
      "metadata": {
        "id": "sFxEzexRfh-L",
        "colab_type": "text"
      },
      "source": [
        "Building the model"
      ]
    },
    {
      "cell_type": "code",
      "metadata": {
        "id": "azwiUq9_e7Zt",
        "colab_type": "code",
        "colab": {}
      },
      "source": [
        "def getModelV2(freeze = True):\n",
        "  # Basic structure for feature extraction\n",
        "  base_model = ResNet101V2(input_shape = (IMG_HEIGHT, IMG_WIDTH, 3),\n",
        "                           include_top = False,\n",
        "                           weights = 'imagenet')\n",
        "  \n",
        "  # Freezeing/Unfreezing base model\n",
        "  base_model.trainable = False\n",
        "  if not freeze:\n",
        "    base_model.trainable = True\n",
        "    # fine_tune_at = 20\n",
        "    # for layer in base_model.layers[:fine_tune_at]:\n",
        "    #   layer.trainable =  False\n",
        "\n",
        "  # Building classification layer\n",
        "  poolingLayer = keras.layers.GlobalAveragePooling2D()\n",
        "  # hiddenLayer1 = keras.layers.Dense(512, activation = \"tanh\")\n",
        "  # hiddenLayer2 = keras.layers.Dense(128, activation = \"relu\")\n",
        "  predictionLayer = keras.layers.Dense(15, activation = \"softmax\")\n",
        "\n",
        "  # Adding classification layer to the base model\n",
        "  model = keras.Sequential([base_model,\n",
        "                            poolingLayer,\n",
        "                            # hiddenLayer1,\n",
        "                            # hiddenLayer2,\n",
        "                            predictionLayer])\n",
        "  \n",
        "  return model"
      ],
      "execution_count": 0,
      "outputs": []
    },
    {
      "cell_type": "markdown",
      "metadata": {
        "id": "5Zz9af7ufnmB",
        "colab_type": "text"
      },
      "source": [
        "Compiling the model"
      ]
    },
    {
      "cell_type": "code",
      "metadata": {
        "id": "PFJzKV4OfdZ1",
        "colab_type": "code",
        "colab": {}
      },
      "source": [
        "# Defining number of epochs, learning rate\n",
        "NUM_EPOCHS = 20\n",
        "INIT_LR = 1e-2"
      ],
      "execution_count": 0,
      "outputs": []
    },
    {
      "cell_type": "code",
      "metadata": {
        "id": "59xAviRMfpka",
        "colab_type": "code",
        "colab": {}
      },
      "source": [
        "modelV2 = getModelV2()\n",
        "opt = keras.optimizers.Adam(learning_rate = INIT_LR)\n",
        "modelV2.compile(optimizer = opt,\n",
        "                loss = keras.losses.categorical_crossentropy,\n",
        "                metrics = ['accuracy'])"
      ],
      "execution_count": 0,
      "outputs": []
    },
    {
      "cell_type": "markdown",
      "metadata": {
        "id": "YgnFNVw0fvJA",
        "colab_type": "text"
      },
      "source": [
        "Training model"
      ]
    },
    {
      "cell_type": "code",
      "metadata": {
        "id": "lg1QTb7RfwPQ",
        "colab_type": "code",
        "colab": {
          "base_uri": "https://localhost:8080/",
          "height": 760
        },
        "outputId": "7271b3e3-7955-4440-95db-199198d4c003"
      },
      "source": [
        "historyV2 = modelV2.fit(trainData, validation_data = (valData), steps_per_epoch = trainSteps, validation_steps = valSteps, epochs = NUM_EPOCHS, verbose = 1)"
      ],
      "execution_count": 37,
      "outputs": [
        {
          "output_type": "stream",
          "text": [
            "Epoch 1/20\n",
            "135/135 [==============================] - 119s 880ms/step - loss: 0.8072 - accuracy: 0.8366 - val_loss: 0.7012 - val_accuracy: 0.8711\n",
            "Epoch 2/20\n",
            "135/135 [==============================] - 119s 880ms/step - loss: 0.2931 - accuracy: 0.9359 - val_loss: 0.6148 - val_accuracy: 0.8947\n",
            "Epoch 3/20\n",
            "135/135 [==============================] - 120s 889ms/step - loss: 0.2579 - accuracy: 0.9472 - val_loss: 0.8057 - val_accuracy: 0.9045\n",
            "Epoch 4/20\n",
            "135/135 [==============================] - 118s 870ms/step - loss: 0.1683 - accuracy: 0.9611 - val_loss: 0.8788 - val_accuracy: 0.8967\n",
            "Epoch 5/20\n",
            "135/135 [==============================] - 118s 873ms/step - loss: 0.2105 - accuracy: 0.9542 - val_loss: 0.8812 - val_accuracy: 0.9016\n",
            "Epoch 6/20\n",
            "135/135 [==============================] - 118s 876ms/step - loss: 0.1786 - accuracy: 0.9641 - val_loss: 0.6896 - val_accuracy: 0.9281\n",
            "Epoch 7/20\n",
            "135/135 [==============================] - 117s 866ms/step - loss: 0.1191 - accuracy: 0.9755 - val_loss: 1.1783 - val_accuracy: 0.8898\n",
            "Epoch 8/20\n",
            "135/135 [==============================] - 119s 882ms/step - loss: 0.1139 - accuracy: 0.9755 - val_loss: 0.8606 - val_accuracy: 0.9104\n",
            "Epoch 9/20\n",
            "135/135 [==============================] - 119s 878ms/step - loss: 0.0818 - accuracy: 0.9822 - val_loss: 0.9559 - val_accuracy: 0.9134\n",
            "Epoch 10/20\n",
            "135/135 [==============================] - 120s 890ms/step - loss: 0.0686 - accuracy: 0.9856 - val_loss: 0.9001 - val_accuracy: 0.9104\n",
            "Epoch 11/20\n",
            "135/135 [==============================] - 121s 893ms/step - loss: 0.0548 - accuracy: 0.9873 - val_loss: 1.2198 - val_accuracy: 0.8986\n",
            "Epoch 12/20\n",
            "135/135 [==============================] - 119s 882ms/step - loss: 0.0663 - accuracy: 0.9868 - val_loss: 1.1629 - val_accuracy: 0.8917\n",
            "Epoch 13/20\n",
            "135/135 [==============================] - 121s 895ms/step - loss: 0.0611 - accuracy: 0.9873 - val_loss: 1.0216 - val_accuracy: 0.8986\n",
            "Epoch 14/20\n",
            "135/135 [==============================] - 120s 886ms/step - loss: 0.0801 - accuracy: 0.9840 - val_loss: 1.2416 - val_accuracy: 0.9124\n",
            "Epoch 15/20\n",
            "135/135 [==============================] - 120s 889ms/step - loss: 0.1026 - accuracy: 0.9824 - val_loss: 1.3788 - val_accuracy: 0.9033\n",
            "Epoch 16/20\n",
            "135/135 [==============================] - 117s 865ms/step - loss: 0.0786 - accuracy: 0.9859 - val_loss: 1.2786 - val_accuracy: 0.9092\n",
            "Epoch 17/20\n",
            "135/135 [==============================] - 117s 868ms/step - loss: 0.0776 - accuracy: 0.9859 - val_loss: 1.4647 - val_accuracy: 0.9085\n",
            "Epoch 18/20\n",
            "135/135 [==============================] - 122s 902ms/step - loss: 0.1311 - accuracy: 0.9794 - val_loss: 1.7924 - val_accuracy: 0.8898\n",
            "Epoch 19/20\n",
            "135/135 [==============================] - 118s 877ms/step - loss: 0.0555 - accuracy: 0.9891 - val_loss: 1.7720 - val_accuracy: 0.9065\n",
            "Epoch 20/20\n",
            "135/135 [==============================] - 119s 878ms/step - loss: 0.0544 - accuracy: 0.9884 - val_loss: 1.1234 - val_accuracy: 0.9183\n"
          ],
          "name": "stdout"
        }
      ]
    },
    {
      "cell_type": "code",
      "metadata": {
        "id": "cycKK5hZgBH_",
        "colab_type": "code",
        "colab": {
          "base_uri": "https://localhost:8080/",
          "height": 36
        },
        "outputId": "5e006eb2-3a39-4a23-9b9e-3ee1de240e78"
      },
      "source": [
        "# Train accuracy and report\n",
        "print(\"Accuracy on train data::\", historyV2.history[\"accuracy\"][-1]*100)"
      ],
      "execution_count": 38,
      "outputs": [
        {
          "output_type": "stream",
          "text": [
            "Accuracy on train data:: 98.84259104728699\n"
          ],
          "name": "stdout"
        }
      ]
    },
    {
      "cell_type": "markdown",
      "metadata": {
        "id": "EXRHWb1IoOn5",
        "colab_type": "text"
      },
      "source": [
        "Testing"
      ]
    },
    {
      "cell_type": "code",
      "metadata": {
        "id": "KsCp17z2oUBH",
        "colab_type": "code",
        "colab": {
          "base_uri": "https://localhost:8080/",
          "height": 54
        },
        "outputId": "39e6727b-32d0-4d4e-e4ad-7c6b2f1aeaaa"
      },
      "source": [
        "testAcc = modelV2.evaluate(testData, steps = testSteps)\n",
        "print(\"Accuracy on test data::\", testAcc[1]*100)"
      ],
      "execution_count": 39,
      "outputs": [
        {
          "output_type": "stream",
          "text": [
            "57/56 [==============================] - 38s 660ms/step - loss: 1.3806 - accuracy: 0.9072\n",
            "Accuracy on test data:: 90.72222113609314\n"
          ],
          "name": "stdout"
        }
      ]
    },
    {
      "cell_type": "markdown",
      "metadata": {
        "id": "JrjY5nrFoY2E",
        "colab_type": "text"
      },
      "source": [
        "Plotting"
      ]
    },
    {
      "cell_type": "code",
      "metadata": {
        "id": "H1lC8CBhoapf",
        "colab_type": "code",
        "colab": {
          "base_uri": "https://localhost:8080/",
          "height": 295
        },
        "outputId": "5be95834-a485-4dd1-c27f-dcd6a4d2bdaf"
      },
      "source": [
        "# Plot training & validation accuracy values\n",
        "plt.plot(historyV2.history['accuracy'])\n",
        "plt.plot(historyV2.history['val_accuracy'])\n",
        "plt.title('Model accuracy')\n",
        "plt.ylabel('Accuracy')\n",
        "plt.xlabel('Epoch')\n",
        "plt.legend(['Train', 'Test'], loc='upper left')\n",
        "plt.show()"
      ],
      "execution_count": 40,
      "outputs": [
        {
          "output_type": "display_data",
          "data": {
            "image/png": "[encoded data removed]",
            "text/plain": [
              "<Figure size 432x288 with 1 Axes>"
            ]
          },
          "metadata": {
            "tags": [],
            "needs_background": "light"
          }
        }
      ]
    },
    {
      "cell_type": "code",
      "metadata": {
        "id": "ZWXB5psKoeCt",
        "colab_type": "code",
        "colab": {
          "base_uri": "https://localhost:8080/",
          "height": 295
        },
        "outputId": "1b2ec2c4-84f1-40ca-8967-93a85c6b8c84"
      },
      "source": [
        "# Plot training & validation loss values\n",
        "plt.plot(historyV2.history['loss'])\n",
        "plt.plot(historyV2.history['val_loss'])\n",
        "plt.title('Model loss')\n",
        "plt.ylabel('Loss')\n",
        "plt.xlabel('Epoch')\n",
        "plt.legend(['Train', 'Test'], loc='upper left')\n",
        "plt.show()"
      ],
      "execution_count": 41,
      "outputs": [
        {
          "output_type": "display_data",
          "data": {
            "image/png": "[encoded data removed]",
            "text/plain": [
              "<Figure size 432x288 with 1 Axes>"
            ]
          },
          "metadata": {
            "tags": [],
            "needs_background": "light"
          }
        }
      ]
    },
    {
      "cell_type": "code",
      "metadata": {
        "id": "eiVV8zGepbBk",
        "colab_type": "code",
        "colab": {}
      },
      "source": [
        ""
      ],
      "execution_count": 0,
      "outputs": []
    }
  ]
}
